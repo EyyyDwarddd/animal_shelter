{
 "cells": [
  {
   "cell_type": "markdown",
   "metadata": {},
   "source": [
    "## Import Libraries"
   ]
  },
  {
   "cell_type": "code",
   "execution_count": 1,
   "metadata": {},
   "outputs": [],
   "source": [
    "import numpy as np\n",
    "import pandas as pd\n",
    "import matplotlib.pyplot as plt\n",
    "import seaborn as sns\n",
    "\n",
    "\n",
    "from sklearn.model_selection import GridSearchCV, train_test_split, cross_val_score\n",
    "from sklearn.linear_model import LogisticRegression\n",
    "from sklearn.ensemble import RandomForestClassifier, ExtraTreesClassifier, BaggingClassifier\n",
    "from sklearn.tree import DecisionTreeClassifier"
   ]
  },
  {
   "cell_type": "code",
   "execution_count": 2,
   "metadata": {
    "scrolled": false
   },
   "outputs": [
    {
     "data": {
      "text/html": [
       "<div>\n",
       "<style scoped>\n",
       "    .dataframe tbody tr th:only-of-type {\n",
       "        vertical-align: middle;\n",
       "    }\n",
       "\n",
       "    .dataframe tbody tr th {\n",
       "        vertical-align: top;\n",
       "    }\n",
       "\n",
       "    .dataframe thead th {\n",
       "        text-align: right;\n",
       "    }\n",
       "</style>\n",
       "<table border=\"1\" class=\"dataframe\">\n",
       "  <thead>\n",
       "    <tr style=\"text-align: right;\">\n",
       "      <th></th>\n",
       "      <th>AnimalID</th>\n",
       "      <th>Name</th>\n",
       "      <th>DateTime</th>\n",
       "      <th>OutcomeType</th>\n",
       "      <th>OutcomeSubtype</th>\n",
       "      <th>AnimalType</th>\n",
       "      <th>SexuponOutcome</th>\n",
       "      <th>AgeuponOutcome</th>\n",
       "      <th>Breed</th>\n",
       "      <th>Color</th>\n",
       "    </tr>\n",
       "  </thead>\n",
       "  <tbody>\n",
       "    <tr>\n",
       "      <th>0</th>\n",
       "      <td>A671945</td>\n",
       "      <td>Hambone</td>\n",
       "      <td>2014-02-12 18:22:00</td>\n",
       "      <td>Return_to_owner</td>\n",
       "      <td>NaN</td>\n",
       "      <td>Dog</td>\n",
       "      <td>Neutered Male</td>\n",
       "      <td>1 year</td>\n",
       "      <td>Shetland Sheepdog Mix</td>\n",
       "      <td>Brown/White</td>\n",
       "    </tr>\n",
       "    <tr>\n",
       "      <th>1</th>\n",
       "      <td>A656520</td>\n",
       "      <td>Emily</td>\n",
       "      <td>2013-10-13 12:44:00</td>\n",
       "      <td>Euthanasia</td>\n",
       "      <td>Suffering</td>\n",
       "      <td>Cat</td>\n",
       "      <td>Spayed Female</td>\n",
       "      <td>1 year</td>\n",
       "      <td>Domestic Shorthair Mix</td>\n",
       "      <td>Cream Tabby</td>\n",
       "    </tr>\n",
       "    <tr>\n",
       "      <th>2</th>\n",
       "      <td>A686464</td>\n",
       "      <td>Pearce</td>\n",
       "      <td>2015-01-31 12:28:00</td>\n",
       "      <td>Adoption</td>\n",
       "      <td>Foster</td>\n",
       "      <td>Dog</td>\n",
       "      <td>Neutered Male</td>\n",
       "      <td>2 years</td>\n",
       "      <td>Pit Bull Mix</td>\n",
       "      <td>Blue/White</td>\n",
       "    </tr>\n",
       "    <tr>\n",
       "      <th>3</th>\n",
       "      <td>A683430</td>\n",
       "      <td>NaN</td>\n",
       "      <td>2014-07-11 19:09:00</td>\n",
       "      <td>Transfer</td>\n",
       "      <td>Partner</td>\n",
       "      <td>Cat</td>\n",
       "      <td>Intact Male</td>\n",
       "      <td>3 weeks</td>\n",
       "      <td>Domestic Shorthair Mix</td>\n",
       "      <td>Blue Cream</td>\n",
       "    </tr>\n",
       "    <tr>\n",
       "      <th>4</th>\n",
       "      <td>A667013</td>\n",
       "      <td>NaN</td>\n",
       "      <td>2013-11-15 12:52:00</td>\n",
       "      <td>Transfer</td>\n",
       "      <td>Partner</td>\n",
       "      <td>Dog</td>\n",
       "      <td>Neutered Male</td>\n",
       "      <td>2 years</td>\n",
       "      <td>Lhasa Apso/Miniature Poodle</td>\n",
       "      <td>Tan</td>\n",
       "    </tr>\n",
       "  </tbody>\n",
       "</table>\n",
       "</div>"
      ],
      "text/plain": [
       "  AnimalID     Name             DateTime      OutcomeType OutcomeSubtype  \\\n",
       "0  A671945  Hambone  2014-02-12 18:22:00  Return_to_owner            NaN   \n",
       "1  A656520    Emily  2013-10-13 12:44:00       Euthanasia      Suffering   \n",
       "2  A686464   Pearce  2015-01-31 12:28:00         Adoption         Foster   \n",
       "3  A683430      NaN  2014-07-11 19:09:00         Transfer        Partner   \n",
       "4  A667013      NaN  2013-11-15 12:52:00         Transfer        Partner   \n",
       "\n",
       "  AnimalType SexuponOutcome AgeuponOutcome                        Breed  \\\n",
       "0        Dog  Neutered Male         1 year        Shetland Sheepdog Mix   \n",
       "1        Cat  Spayed Female         1 year       Domestic Shorthair Mix   \n",
       "2        Dog  Neutered Male        2 years                 Pit Bull Mix   \n",
       "3        Cat    Intact Male        3 weeks       Domestic Shorthair Mix   \n",
       "4        Dog  Neutered Male        2 years  Lhasa Apso/Miniature Poodle   \n",
       "\n",
       "         Color  \n",
       "0  Brown/White  \n",
       "1  Cream Tabby  \n",
       "2   Blue/White  \n",
       "3   Blue Cream  \n",
       "4          Tan  "
      ]
     },
     "execution_count": 2,
     "metadata": {},
     "output_type": "execute_result"
    }
   ],
   "source": [
    "train = pd.read_csv('./data/train.csv')\n",
    "train.head()"
   ]
  },
  {
   "cell_type": "markdown",
   "metadata": {},
   "source": [
    "### Checking Null Values"
   ]
  },
  {
   "cell_type": "code",
   "execution_count": 3,
   "metadata": {
    "scrolled": true
   },
   "outputs": [
    {
     "data": {
      "text/plain": [
       "21322"
      ]
     },
     "execution_count": 3,
     "metadata": {},
     "output_type": "execute_result"
    }
   ],
   "source": [
    "train.isnull().sum().sum()"
   ]
  },
  {
   "cell_type": "markdown",
   "metadata": {},
   "source": [
    "Comment: Large number of null values in the `Name` and `OutcomeSubtype` column. Will look into this further"
   ]
  },
  {
   "cell_type": "markdown",
   "metadata": {},
   "source": [
    "### Data Clean-Up"
   ]
  },
  {
   "cell_type": "markdown",
   "metadata": {},
   "source": [
    "Dropping OutcomeSubtype since it's closely related to our target column as well as it not showing in the `test.csv` excel spreadsheet"
   ]
  },
  {
   "cell_type": "code",
   "execution_count": 4,
   "metadata": {},
   "outputs": [],
   "source": [
    "train.drop(['OutcomeSubtype'], axis = 1, inplace = True)"
   ]
  },
  {
   "cell_type": "markdown",
   "metadata": {},
   "source": [
    "#### Binarizing Name Column"
   ]
  },
  {
   "cell_type": "code",
   "execution_count": 5,
   "metadata": {},
   "outputs": [],
   "source": [
    "train['Name'] = train['Name'].fillna(0)"
   ]
  },
  {
   "cell_type": "code",
   "execution_count": 6,
   "metadata": {},
   "outputs": [],
   "source": [
    "train['Name'] = [1 if i not in train['Name'] else 0 for i in train['Name']]"
   ]
  },
  {
   "cell_type": "markdown",
   "metadata": {},
   "source": [
    "#### Transforming DateTime Column"
   ]
  },
  {
   "cell_type": "code",
   "execution_count": 7,
   "metadata": {},
   "outputs": [
    {
     "data": {
      "text/plain": [
       "0       2014-02-12 18:22:00\n",
       "1       2013-10-13 12:44:00\n",
       "2       2015-01-31 12:28:00\n",
       "3       2014-07-11 19:09:00\n",
       "4       2013-11-15 12:52:00\n",
       "                ...        \n",
       "26724   2015-05-14 11:56:00\n",
       "26725   2016-01-20 18:59:00\n",
       "26726   2015-03-09 13:33:00\n",
       "26727   2014-04-27 12:22:00\n",
       "26728   2015-07-02 09:00:00\n",
       "Name: DateTime, Length: 26729, dtype: datetime64[ns]"
      ]
     },
     "execution_count": 7,
     "metadata": {},
     "output_type": "execute_result"
    }
   ],
   "source": [
    "train['DateTime'] = pd.to_datetime(train['DateTime'])\n",
    "train['DateTime']"
   ]
  },
  {
   "cell_type": "markdown",
   "metadata": {},
   "source": [
    "Will create columns out of the months to assess whether or not adoptions occur in a particular month more than others"
   ]
  },
  {
   "cell_type": "code",
   "execution_count": 8,
   "metadata": {},
   "outputs": [
    {
     "data": {
      "text/plain": [
       "0     2\n",
       "1    10\n",
       "2     1\n",
       "3     7\n",
       "4    11\n",
       "Name: month, dtype: int64"
      ]
     },
     "execution_count": 8,
     "metadata": {},
     "output_type": "execute_result"
    }
   ],
   "source": [
    "train['month'] = train['DateTime'].apply(lambda dt: dt.month)\n",
    "train['month'][0:5]"
   ]
  },
  {
   "cell_type": "code",
   "execution_count": 9,
   "metadata": {
    "scrolled": true
   },
   "outputs": [
    {
     "data": {
      "text/plain": [
       "0        Feb\n",
       "1        Oct\n",
       "2        Jan\n",
       "3        Jul\n",
       "4        Nov\n",
       "        ... \n",
       "26724    May\n",
       "26725    Jan\n",
       "26726    Mar\n",
       "26727    Apr\n",
       "26728    Jul\n",
       "Name: month, Length: 26729, dtype: object"
      ]
     },
     "execution_count": 9,
     "metadata": {},
     "output_type": "execute_result"
    }
   ],
   "source": [
    "def to_month(num):\n",
    "    num = int(num)\n",
    "    if num == 1:\n",
    "        return 'Jan'\n",
    "    elif num == 2:\n",
    "        return 'Feb'\n",
    "    elif num == 3:\n",
    "        return 'Mar'\n",
    "    elif num == 4:\n",
    "        return 'Apr'\n",
    "    elif num == 5:\n",
    "        return 'May'\n",
    "    elif num == 6:\n",
    "        return 'Jun'\n",
    "    elif num == 7:\n",
    "        return 'Jul'\n",
    "    elif num == 8:\n",
    "        return 'Aug'\n",
    "    elif num == 9:\n",
    "        return 'Sept'\n",
    "    elif num == 10:\n",
    "        return 'Oct'\n",
    "    elif num == 11:\n",
    "        return 'Nov'\n",
    "    else:\n",
    "        return 'Dec'\n",
    "\n",
    "train['month'] = train['month'].map(to_month)\n",
    "train['month']"
   ]
  },
  {
   "cell_type": "code",
   "execution_count": 10,
   "metadata": {},
   "outputs": [],
   "source": [
    "dummies_month = pd.get_dummies(train['month'])"
   ]
  },
  {
   "cell_type": "markdown",
   "metadata": {},
   "source": [
    "### Dummy Variables - AnimalType"
   ]
  },
  {
   "cell_type": "code",
   "execution_count": 11,
   "metadata": {},
   "outputs": [],
   "source": [
    "animal_type = pd.get_dummies(train['AnimalType'])"
   ]
  },
  {
   "cell_type": "markdown",
   "metadata": {},
   "source": [
    "### Dummy Variables - SexuponOutcome"
   ]
  },
  {
   "cell_type": "code",
   "execution_count": 12,
   "metadata": {},
   "outputs": [],
   "source": [
    "sex_type = pd.get_dummies(train['SexuponOutcome'])"
   ]
  },
  {
   "cell_type": "markdown",
   "metadata": {},
   "source": [
    "### Checking Columns `SexuponOutcome` and `AgeuponOutcome`"
   ]
  },
  {
   "cell_type": "markdown",
   "metadata": {},
   "source": [
    "Since there's only one null value for `SexuponOutcome`, I am confident enought that the outcome of myresults won't be affected by dropping that row. with `AgeuponOutcome`, I will go ahead and add the `mean` age value into the missing rows"
   ]
  },
  {
   "cell_type": "code",
   "execution_count": 13,
   "metadata": {},
   "outputs": [],
   "source": [
    "train.dropna(subset = ['SexuponOutcome'], inplace = True)"
   ]
  },
  {
   "cell_type": "code",
   "execution_count": 14,
   "metadata": {},
   "outputs": [],
   "source": [
    "#function to convert age to years\n",
    "#credit to https://www.kaggle.com/slegra78/animals-in-shelters\n",
    "\n",
    "def calc_age_in_years(x):\n",
    "    x = str(x)\n",
    "    if x == 'nan': return \n",
    "    age = int(x.split()[0])\n",
    "    if x.find('year') > -1: return age #'year' is found anywhere on the string\n",
    "    if x.find('month')> -1: return age / 12. \n",
    "    if x.find('week')> -1: return age / 52.\n",
    "    if x.find('day')> -1: return age / 365.\n",
    "    else: return 0"
   ]
  },
  {
   "cell_type": "code",
   "execution_count": 15,
   "metadata": {
    "scrolled": true
   },
   "outputs": [
    {
     "data": {
      "text/plain": [
       "0        1.000000\n",
       "1        1.000000\n",
       "2        2.000000\n",
       "3        0.057692\n",
       "4        2.000000\n",
       "           ...   \n",
       "26724    0.083333\n",
       "26725    0.250000\n",
       "26726    4.000000\n",
       "26727    0.076923\n",
       "26728    1.000000\n",
       "Name: AgeuponOutcome, Length: 26728, dtype: float64"
      ]
     },
     "execution_count": 15,
     "metadata": {},
     "output_type": "execute_result"
    }
   ],
   "source": [
    "train['AgeuponOutcome'] = train['AgeuponOutcome'].map(calc_age_in_years)\n",
    "train['AgeuponOutcome']"
   ]
  },
  {
   "cell_type": "markdown",
   "metadata": {},
   "source": [
    "will fill in the mean for empty values with `mean`"
   ]
  },
  {
   "cell_type": "code",
   "execution_count": 16,
   "metadata": {},
   "outputs": [],
   "source": [
    "train['AgeuponOutcome'] = train['AgeuponOutcome'].fillna(train['AgeuponOutcome'].mean())"
   ]
  },
  {
   "cell_type": "markdown",
   "metadata": {},
   "source": [
    "### Dummy Variables - Breed"
   ]
  },
  {
   "cell_type": "markdown",
   "metadata": {},
   "source": [
    "Due to multiple breeds listed in this column, will sort out purebreds and mixed breeds"
   ]
  },
  {
   "cell_type": "code",
   "execution_count": 17,
   "metadata": {
    "scrolled": true
   },
   "outputs": [
    {
     "data": {
      "text/plain": [
       "0                 Shetland Sheepdog Mix\n",
       "1                Domestic Shorthair Mix\n",
       "2                          Pit Bull Mix\n",
       "3                Domestic Shorthair Mix\n",
       "4           Lhasa Apso/Miniature Poodle\n",
       "5     Cairn Terrier/Chihuahua Shorthair\n",
       "6                Domestic Shorthair Mix\n",
       "7                Domestic Shorthair Mix\n",
       "8         American Pit Bull Terrier Mix\n",
       "9                         Cairn Terrier\n",
       "10               Domestic Shorthair Mix\n",
       "11              Miniature Schnauzer Mix\n",
       "12                         Pit Bull Mix\n",
       "13                Yorkshire Terrier Mix\n",
       "14                   Great Pyrenees Mix\n",
       "Name: Breed, dtype: object"
      ]
     },
     "execution_count": 17,
     "metadata": {},
     "output_type": "execute_result"
    }
   ],
   "source": [
    "train['Breed'].head(15)"
   ]
  },
  {
   "cell_type": "code",
   "execution_count": 16,
   "metadata": {},
   "outputs": [
    {
     "data": {
      "text/plain": [
       "['mixed', 'mixed', 'mixed', 'mixed']"
      ]
     },
     "execution_count": 16,
     "metadata": {},
     "output_type": "execute_result"
    }
   ],
   "source": [
    "sorted_breeds = []\n",
    "for i in train['Breed']:\n",
    "    if 'Mix' in i:\n",
    "        sorted_breeds.append('mixed')\n",
    "    elif '/' in i:                       #assuming that rows with \"/\" are mixed\n",
    "        sorted_breeds.append('mixed')        \n",
    "    else:\n",
    "        sorted_breeds.append('pure')\n",
    "sorted_breeds[0:4]"
   ]
  },
  {
   "cell_type": "code",
   "execution_count": 17,
   "metadata": {},
   "outputs": [],
   "source": [
    "train['pure_or_mix'] = sorted_breeds"
   ]
  },
  {
   "cell_type": "code",
   "execution_count": 18,
   "metadata": {},
   "outputs": [],
   "source": [
    "pure_or_mix = pd.get_dummies(train['pure_or_mix'])"
   ]
  },
  {
   "cell_type": "markdown",
   "metadata": {},
   "source": [
    "### Colors Column"
   ]
  },
  {
   "cell_type": "markdown",
   "metadata": {},
   "source": [
    "Too many colors to dummify, I would drop this column and take a look at this column depending on how the model performs"
   ]
  },
  {
   "cell_type": "code",
   "execution_count": 19,
   "metadata": {},
   "outputs": [],
   "source": [
    "train.drop(columns = ['Color'], inplace = True)"
   ]
  },
  {
   "cell_type": "markdown",
   "metadata": {},
   "source": [
    "### Creating Dummy Values for Categorical Columns"
   ]
  },
  {
   "cell_type": "code",
   "execution_count": 20,
   "metadata": {},
   "outputs": [],
   "source": [
    "train['y'] = train['OutcomeType'].map({'Adoption': 0,\n",
    "                                      'Died': 1,\n",
    "                                      'Euthanasia': 2,\n",
    "                                      'Return_to_owner': 3,\n",
    "                                      'Transfer': 4})"
   ]
  },
  {
   "cell_type": "code",
   "execution_count": 21,
   "metadata": {},
   "outputs": [],
   "source": [
    "train = pd.concat([train, animal_type, sex_type, pure_or_mix, dummies_month], axis = 1)"
   ]
  },
  {
   "cell_type": "markdown",
   "metadata": {},
   "source": [
    "Dropping rows where null value exists (null values at this stage of the data cleaning were less than 20)"
   ]
  },
  {
   "cell_type": "code",
   "execution_count": 22,
   "metadata": {},
   "outputs": [],
   "source": [
    "train.dropna(inplace=True)"
   ]
  },
  {
   "cell_type": "markdown",
   "metadata": {},
   "source": [
    "### EDA"
   ]
  },
  {
   "cell_type": "markdown",
   "metadata": {},
   "source": [
    "#### Delving into some stats between dogs and cats"
   ]
  },
  {
   "cell_type": "code",
   "execution_count": 23,
   "metadata": {},
   "outputs": [
    {
     "data": {
      "image/png": "[encoded data removed]",
      "text/plain": [
       "<Figure size 479.75x360 with 1 Axes>"
      ]
     },
     "metadata": {
      "needs_background": "light"
     },
     "output_type": "display_data"
    }
   ],
   "source": [
    "sns.catplot(x=\"AnimalType\", hue=\"OutcomeType\", data=train, kind=\"count\");"
   ]
  },
  {
   "cell_type": "markdown",
   "metadata": {},
   "source": [
    "Two things stood out for me here: Most dogs appear to be adopted more than cats, and most cats were transferred out of the shelter"
   ]
  },
  {
   "cell_type": "markdown",
   "metadata": {},
   "source": [
    "Majority of animals do not go adopted in the shelter"
   ]
  },
  {
   "cell_type": "code",
   "execution_count": 24,
   "metadata": {
    "scrolled": false
   },
   "outputs": [
    {
     "data": {
      "image/png": "[encoded data removed]",
      "text/plain": [
       "<Figure size 432x288 with 1 Axes>"
      ]
     },
     "metadata": {
      "needs_background": "light"
     },
     "output_type": "display_data"
    }
   ],
   "source": [
    "train['OutcomeType'].value_counts().plot(kind = 'bar');"
   ]
  },
  {
   "cell_type": "markdown",
   "metadata": {},
   "source": [
    "### Establishing Variables for Modeling"
   ]
  },
  {
   "cell_type": "code",
   "execution_count": 26,
   "metadata": {
    "scrolled": true
   },
   "outputs": [
    {
     "name": "stdout",
     "output_type": "stream",
     "text": [
      "(26710, 23)\n",
      "(26710,)\n"
     ]
    }
   ],
   "source": [
    "X= train.drop(['AnimalID', 'OutcomeType', 'DateTime', 'AnimalType', 'SexuponOutcome', 'Breed', 'month', 'pure_or_mix', 'y'], axis = 'columns')\n",
    "y= train['y']\n",
    "print(X.shape)\n",
    "print(y.shape)"
   ]
  },
  {
   "cell_type": "code",
   "execution_count": 27,
   "metadata": {},
   "outputs": [],
   "source": [
    "X_train, X_val, y_train, y_val = train_test_split(X, y, random_state = 42, test_size = 0.15, stratify = y)"
   ]
  },
  {
   "cell_type": "markdown",
   "metadata": {},
   "source": [
    "### Establishing Baseline Accuracy"
   ]
  },
  {
   "cell_type": "code",
   "execution_count": 28,
   "metadata": {
    "scrolled": true
   },
   "outputs": [
    {
     "data": {
      "text/plain": [
       "0.0    0.403182\n",
       "4.0    0.352153\n",
       "3.0    0.179146\n",
       "2.0    0.058143\n",
       "1.0    0.007376\n",
       "Name: y, dtype: float64"
      ]
     },
     "execution_count": 28,
     "metadata": {},
     "output_type": "execute_result"
    }
   ],
   "source": [
    "y.value_counts(normalize = True)"
   ]
  },
  {
   "cell_type": "markdown",
   "metadata": {},
   "source": [
    "#### Model 1: Random Forest"
   ]
  },
  {
   "cell_type": "code",
   "execution_count": 29,
   "metadata": {},
   "outputs": [],
   "source": [
    "rf = RandomForestClassifier(random_state=42, class_weight=\"balanced\")         "
   ]
  },
  {
   "cell_type": "code",
   "execution_count": 30,
   "metadata": {
    "scrolled": true
   },
   "outputs": [
    {
     "data": {
      "text/plain": [
       "0.5423955308801746"
      ]
     },
     "execution_count": 30,
     "metadata": {},
     "output_type": "execute_result"
    }
   ],
   "source": [
    "cross_val_score(rf, X_train, y_train, cv = 5).mean()"
   ]
  },
  {
   "cell_type": "code",
   "execution_count": 31,
   "metadata": {},
   "outputs": [
    {
     "data": {
      "text/plain": [
       "RandomForestClassifier(class_weight='balanced', random_state=42)"
      ]
     },
     "execution_count": 31,
     "metadata": {},
     "output_type": "execute_result"
    }
   ],
   "source": [
    "rf.fit(X_train, y_train)"
   ]
  },
  {
   "cell_type": "code",
   "execution_count": 32,
   "metadata": {},
   "outputs": [],
   "source": [
    "rf_params = {\n",
    "    'n_estimators': [50, 100, 150],      \n",
    "    'max_depth': [3, 4, 5],\n",
    "    'min_samples_split': [3, 5, 7],\n",
    "    'min_samples_leaf': [2, 3],\n",
    "    'max_features': ['auto', 'log2']      \n",
    "}"
   ]
  },
  {
   "cell_type": "code",
   "execution_count": 33,
   "metadata": {},
   "outputs": [
    {
     "name": "stdout",
     "output_type": "stream",
     "text": [
      "Fitting 5 folds for each of 108 candidates, totalling 540 fits\n"
     ]
    },
    {
     "name": "stderr",
     "output_type": "stream",
     "text": [
      "[Parallel(n_jobs=-2)]: Using backend LokyBackend with 3 concurrent workers.\n",
      "[Parallel(n_jobs=-2)]: Done  44 tasks      | elapsed:   11.4s\n",
      "[Parallel(n_jobs=-2)]: Done 194 tasks      | elapsed:   43.4s\n",
      "[Parallel(n_jobs=-2)]: Done 444 tasks      | elapsed:  1.7min\n",
      "[Parallel(n_jobs=-2)]: Done 540 out of 540 | elapsed:  2.1min finished\n"
     ]
    },
    {
     "name": "stdout",
     "output_type": "stream",
     "text": [
      "0.4666343845162092\n"
     ]
    },
    {
     "data": {
      "text/plain": [
       "{'max_depth': 5,\n",
       " 'max_features': 'auto',\n",
       " 'min_samples_leaf': 2,\n",
       " 'min_samples_split': 7,\n",
       " 'n_estimators': 150}"
      ]
     },
     "execution_count": 33,
     "metadata": {},
     "output_type": "execute_result"
    }
   ],
   "source": [
    "gs_rf = GridSearchCV(rf, param_grid=rf_params, cv=5, n_jobs = -2, verbose = True)\n",
    "gs_rf.fit(X_train, y_train)\n",
    "print(gs_rf.best_score_)\n",
    "gs_rf.best_params_"
   ]
  },
  {
   "cell_type": "code",
   "execution_count": 34,
   "metadata": {},
   "outputs": [
    {
     "data": {
      "text/plain": [
       "(0.46046777958860063, 0.4646867981033192)"
      ]
     },
     "execution_count": 34,
     "metadata": {},
     "output_type": "execute_result"
    }
   ],
   "source": [
    "gs_rf.score(X_train, y_train), gs_rf.score(X_val, y_val)"
   ]
  },
  {
   "cell_type": "markdown",
   "metadata": {},
   "source": [
    "#### Model 2: Single Decision Tree"
   ]
  },
  {
   "cell_type": "code",
   "execution_count": 35,
   "metadata": {},
   "outputs": [],
   "source": [
    "dt = DecisionTreeClassifier(random_state = 42)"
   ]
  },
  {
   "cell_type": "code",
   "execution_count": 36,
   "metadata": {},
   "outputs": [
    {
     "data": {
      "text/plain": [
       "0.6057792195823272"
      ]
     },
     "execution_count": 36,
     "metadata": {},
     "output_type": "execute_result"
    }
   ],
   "source": [
    "cross_val_score(dt, X_train, y_train, cv = 5).mean()"
   ]
  },
  {
   "cell_type": "code",
   "execution_count": 37,
   "metadata": {},
   "outputs": [
    {
     "name": "stdout",
     "output_type": "stream",
     "text": [
      "Fitting 5 folds for each of 18 candidates, totalling 90 fits\n"
     ]
    },
    {
     "name": "stderr",
     "output_type": "stream",
     "text": [
      "[Parallel(n_jobs=1)]: Using backend SequentialBackend with 1 concurrent workers.\n"
     ]
    },
    {
     "name": "stdout",
     "output_type": "stream",
     "text": [
      "0.6342334792060977\n"
     ]
    },
    {
     "name": "stderr",
     "output_type": "stream",
     "text": [
      "[Parallel(n_jobs=1)]: Done  90 out of  90 | elapsed:    1.9s finished\n"
     ]
    },
    {
     "data": {
      "text/plain": [
       "{'max_depth': 5, 'min_samples_leaf': 3, 'min_samples_split': 3}"
      ]
     },
     "execution_count": 37,
     "metadata": {},
     "output_type": "execute_result"
    }
   ],
   "source": [
    "dt_params = {\n",
    "    'max_depth': [3, 4, 5],          \n",
    "    'min_samples_split': [3, 5, 7],  \n",
    "    'min_samples_leaf': [3, 4]       \n",
    "}\n",
    "gs_dt = GridSearchCV(dt, param_grid=dt_params, cv=5, verbose = True)\n",
    "gs_dt.fit(X_train, y_train)\n",
    "print(gs_dt.best_score_)\n",
    "gs_dt.best_params_\n"
   ]
  },
  {
   "cell_type": "code",
   "execution_count": 38,
   "metadata": {},
   "outputs": [
    {
     "data": {
      "text/plain": [
       "(0.6390344888340748, 0.6436236585974544)"
      ]
     },
     "execution_count": 38,
     "metadata": {},
     "output_type": "execute_result"
    }
   ],
   "source": [
    "gs_dt.score(X_train, y_train), gs_dt.score(X_val, y_val)"
   ]
  },
  {
   "cell_type": "markdown",
   "metadata": {},
   "source": [
    "####  Model 3: Logistic Regression"
   ]
  },
  {
   "cell_type": "code",
   "execution_count": 39,
   "metadata": {},
   "outputs": [],
   "source": [
    "logreg = LogisticRegression(random_state = 42, solver = 'newton-cg')"
   ]
  },
  {
   "cell_type": "code",
   "execution_count": 40,
   "metadata": {},
   "outputs": [
    {
     "data": {
      "text/plain": [
       "LogisticRegression(random_state=42, solver='newton-cg')"
      ]
     },
     "execution_count": 40,
     "metadata": {},
     "output_type": "execute_result"
    }
   ],
   "source": [
    "logreg.fit(X_train, y_train)"
   ]
  },
  {
   "cell_type": "code",
   "execution_count": 49,
   "metadata": {},
   "outputs": [
    {
     "data": {
      "text/plain": [
       "(0.6326476677091133, 0.6433740953331669)"
      ]
     },
     "execution_count": 49,
     "metadata": {},
     "output_type": "execute_result"
    }
   ],
   "source": [
    "logreg.score(X_train, y_train), logreg.score(X_val, y_val)"
   ]
  },
  {
   "cell_type": "markdown",
   "metadata": {},
   "source": [
    "#### Model 4: ExtraTrees Model"
   ]
  },
  {
   "cell_type": "code",
   "execution_count": 44,
   "metadata": {},
   "outputs": [],
   "source": [
    "et = ExtraTreesClassifier(random_state = 42)"
   ]
  },
  {
   "cell_type": "code",
   "execution_count": 45,
   "metadata": {
    "scrolled": true
   },
   "outputs": [
    {
     "name": "stdout",
     "output_type": "stream",
     "text": [
      "Fitting 5 folds for each of 144 candidates, totalling 720 fits\n"
     ]
    },
    {
     "name": "stderr",
     "output_type": "stream",
     "text": [
      "[Parallel(n_jobs=-2)]: Using backend LokyBackend with 3 concurrent workers.\n",
      "[Parallel(n_jobs=-2)]: Done  44 tasks      | elapsed:   10.7s\n",
      "[Parallel(n_jobs=-2)]: Done 194 tasks      | elapsed:   48.4s\n",
      "[Parallel(n_jobs=-2)]: Done 444 tasks      | elapsed:  1.8min\n",
      "[Parallel(n_jobs=-2)]: Done 720 out of 720 | elapsed:  3.0min finished\n"
     ]
    },
    {
     "name": "stdout",
     "output_type": "stream",
     "text": [
      "0.6100516682560364\n"
     ]
    },
    {
     "data": {
      "text/plain": [
       "{'bootstrap': False,\n",
       " 'max_depth': 5,\n",
       " 'max_features': 'auto',\n",
       " 'min_samples_leaf': 3,\n",
       " 'min_samples_split': 3,\n",
       " 'n_estimators': 100}"
      ]
     },
     "execution_count": 45,
     "metadata": {},
     "output_type": "execute_result"
    }
   ],
   "source": [
    "et_params = {\n",
    "    'n_estimators': [100, 150],\n",
    "    'max_depth': [3, 4, 5],          \n",
    "    'min_samples_split': [3, 5, 7],  \n",
    "    'min_samples_leaf': [3, 4],\n",
    "    'max_features': ['auto', 'log2'],\n",
    "    'bootstrap': [True, False]}       #default is false!\n",
    "\n",
    "gs_et = GridSearchCV(et, param_grid=et_params, cv=5, n_jobs = -2, verbose = True)\n",
    "gs_et.fit(X_train, y_train)\n",
    "print(gs_et.best_score_)\n",
    "gs_et.best_params_"
   ]
  },
  {
   "cell_type": "code",
   "execution_count": 50,
   "metadata": {},
   "outputs": [
    {
     "data": {
      "text/plain": [
       "(0.6107122406730388, 0.6166708260544048)"
      ]
     },
     "execution_count": 50,
     "metadata": {},
     "output_type": "execute_result"
    }
   ],
   "source": [
    "gs_et.score(X_train, y_train), gs_et.score(X_val, y_val)"
   ]
  },
  {
   "cell_type": "markdown",
   "metadata": {},
   "source": [
    "#### Model 5: Bagging Classifier"
   ]
  },
  {
   "cell_type": "code",
   "execution_count": 46,
   "metadata": {},
   "outputs": [],
   "source": [
    "bag = BaggingClassifier(random_state = 42)"
   ]
  },
  {
   "cell_type": "code",
   "execution_count": 47,
   "metadata": {},
   "outputs": [
    {
     "name": "stdout",
     "output_type": "stream",
     "text": [
      "Fitting 5 folds for each of 96 candidates, totalling 480 fits\n"
     ]
    },
    {
     "name": "stderr",
     "output_type": "stream",
     "text": [
      "[Parallel(n_jobs=-2)]: Using backend LokyBackend with 3 concurrent workers.\n",
      "[Parallel(n_jobs=-2)]: Done  44 tasks      | elapsed:    8.4s\n",
      "[Parallel(n_jobs=-2)]: Done 194 tasks      | elapsed:   54.7s\n",
      "[Parallel(n_jobs=-2)]: Done 444 tasks      | elapsed:  2.4min\n",
      "[Parallel(n_jobs=-2)]: Done 480 out of 480 | elapsed:  3.0min finished\n"
     ]
    },
    {
     "name": "stdout",
     "output_type": "stream",
     "text": [
      "0.6366560956609725\n"
     ]
    },
    {
     "data": {
      "text/plain": [
       "{'bootstrap_features': False,\n",
       " 'max_features': 0.75,\n",
       " 'max_samples': 0.25,\n",
       " 'n_estimators': 100}"
      ]
     },
     "execution_count": 47,
     "metadata": {},
     "output_type": "execute_result"
    }
   ],
   "source": [
    "bag_params = {\n",
    "    'n_estimators': [10, 50, 100, 150],     \n",
    "    'max_samples': [0.25, 0.5, 0.75],\n",
    "    'max_features': [0.25, 0.5, 0.75, 1.0],  \n",
    "    'bootstrap_features': [True, False]\n",
    "}\n",
    "gs_bag = GridSearchCV(bag, param_grid=bag_params, cv=5, n_jobs = -2, verbose = True) #n_jobs = -2 means all but 2 cores are processing the data\n",
    "gs_bag.fit(X_train, y_train)\n",
    "print(gs_bag.best_score_)\n",
    "gs_bag.best_params_"
   ]
  },
  {
   "cell_type": "code",
   "execution_count": 51,
   "metadata": {},
   "outputs": [
    {
     "data": {
      "text/plain": [
       "(0.6805268026252037, 0.6451210381831795)"
      ]
     },
     "execution_count": 51,
     "metadata": {},
     "output_type": "execute_result"
    }
   ],
   "source": [
    "gs_bag.score(X_train, y_train), gs_bag.score(X_val, y_val)"
   ]
  },
  {
   "cell_type": "code",
   "execution_count": null,
   "metadata": {},
   "outputs": [],
   "source": []
  }
 ],
 "metadata": {
  "kernelspec": {
   "display_name": "Python 3",
   "language": "python",
   "name": "python3"
  },
  "language_info": {
   "codemirror_mode": {
    "name": "ipython",
    "version": 3
   },
   "file_extension": ".py",
   "mimetype": "text/x-python",
   "name": "python",
   "nbconvert_exporter": "python",
   "pygments_lexer": "ipython3",
   "version": "3.8.5"
  },
  "toc": {
   "base_numbering": 1,
   "nav_menu": {},
   "number_sections": true,
   "sideBar": true,
   "skip_h1_title": false,
   "title_cell": "Table of Contents",
   "title_sidebar": "Contents",
   "toc_cell": false,
   "toc_position": {},
   "toc_section_display": true,
   "toc_window_display": false
  }
 },
 "nbformat": 4,
 "nbformat_minor": 4
}
